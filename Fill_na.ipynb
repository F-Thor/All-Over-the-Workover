{
 "cells": [
  {
   "cell_type": "code",
   "execution_count": 1,
   "metadata": {},
   "outputs": [],
   "source": [
    "import pandas as pd\n",
    "import seaborn as sns\n",
    "import matplotlib.pyplot as plt\n",
    "import sklearn\n",
    "import numpy as np"
   ]
  },
  {
   "cell_type": "markdown",
   "metadata": {},
   "source": [
    "Загружаем данные и смотрим каких значений не хватает."
   ]
  },
  {
   "cell_type": "code",
   "execution_count": 2,
   "metadata": {},
   "outputs": [
    {
     "data": {
      "text/html": [
       "<div>\n",
       "<style scoped>\n",
       "    .dataframe tbody tr th:only-of-type {\n",
       "        vertical-align: middle;\n",
       "    }\n",
       "\n",
       "    .dataframe tbody tr th {\n",
       "        vertical-align: top;\n",
       "    }\n",
       "\n",
       "    .dataframe thead th {\n",
       "        text-align: right;\n",
       "    }\n",
       "</style>\n",
       "<table border=\"1\" class=\"dataframe\">\n",
       "  <thead>\n",
       "    <tr style=\"text-align: right;\">\n",
       "      <th></th>\n",
       "      <th>Well_Number</th>\n",
       "      <th>Completion_Type</th>\n",
       "      <th>Top_Perforation</th>\n",
       "      <th>Bottom_Perforation</th>\n",
       "      <th>Depth</th>\n",
       "      <th>Casing_Diam</th>\n",
       "    </tr>\n",
       "  </thead>\n",
       "  <tbody>\n",
       "    <tr>\n",
       "      <th>0</th>\n",
       "      <td>AGB001</td>\n",
       "      <td>VERTICAL PRE-PERFORATED (SWELLABLE PACKERS)</td>\n",
       "      <td>495.65</td>\n",
       "      <td>777.44</td>\n",
       "      <td>832.04</td>\n",
       "      <td>6.336</td>\n",
       "    </tr>\n",
       "    <tr>\n",
       "      <th>1</th>\n",
       "      <td>AGB002</td>\n",
       "      <td>VERTICAL FRAC</td>\n",
       "      <td>547.19</td>\n",
       "      <td>815.69</td>\n",
       "      <td>847.00</td>\n",
       "      <td>4.892</td>\n",
       "    </tr>\n",
       "    <tr>\n",
       "      <th>2</th>\n",
       "      <td>AGB003</td>\n",
       "      <td>VERTICAL FRAC</td>\n",
       "      <td>491.41</td>\n",
       "      <td>800.61</td>\n",
       "      <td>825.00</td>\n",
       "      <td>4.892</td>\n",
       "    </tr>\n",
       "  </tbody>\n",
       "</table>\n",
       "</div>"
      ],
      "text/plain": [
       "  Well_Number                              Completion_Type  Top_Perforation  \\\n",
       "0      AGB001  VERTICAL PRE-PERFORATED (SWELLABLE PACKERS)           495.65   \n",
       "1      AGB002                                VERTICAL FRAC           547.19   \n",
       "2      AGB003                                VERTICAL FRAC           491.41   \n",
       "\n",
       "   Bottom_Perforation   Depth  Casing_Diam  \n",
       "0              777.44  832.04        6.336  \n",
       "1              815.69  847.00        4.892  \n",
       "2              800.61  825.00        4.892  "
      ]
     },
     "execution_count": 2,
     "metadata": {},
     "output_type": "execute_result"
    }
   ],
   "source": [
    "well=pd.read_csv('..\\\\well_details.csv')\n",
    "well.head(3)"
   ]
  },
  {
   "cell_type": "code",
   "execution_count": 3,
   "metadata": {},
   "outputs": [
    {
     "name": "stdout",
     "output_type": "stream",
     "text": [
      "<class 'pandas.core.frame.DataFrame'>\n",
      "RangeIndex: 1231 entries, 0 to 1230\n",
      "Data columns (total 6 columns):\n",
      " #   Column              Non-Null Count  Dtype  \n",
      "---  ------              --------------  -----  \n",
      " 0   Well_Number         1231 non-null   object \n",
      " 1   Completion_Type     1231 non-null   object \n",
      " 2   Top_Perforation     1214 non-null   float64\n",
      " 3   Bottom_Perforation  1214 non-null   float64\n",
      " 4   Depth               1205 non-null   float64\n",
      " 5   Casing_Diam         1216 non-null   float64\n",
      "dtypes: float64(4), object(2)\n",
      "memory usage: 57.8+ KB\n"
     ]
    }
   ],
   "source": [
    "well.info()"
   ]
  },
  {
   "cell_type": "markdown",
   "metadata": {},
   "source": [
    "Исходя из логики геологии(что вряд ли схожие по расположению и глубине скважины имеют большое \n",
    "                          различее в расположении пластов, а так же возможные ошибки в данных,\n",
    "                         в частности неправдоподобно малые глубины скважин), \n",
    "заполняем пропущенные значения при помощи KNNinputer из SkLeran. "
   ]
  },
  {
   "cell_type": "code",
   "execution_count": 4,
   "metadata": {},
   "outputs": [],
   "source": [
    "well.loc[well['Depth']<100,'Depth']=np.nan"
   ]
  },
  {
   "cell_type": "code",
   "execution_count": 5,
   "metadata": {},
   "outputs": [],
   "source": [
    "from sklearn.impute import KNNImputer\n",
    "imputer = KNNImputer(n_neighbors=3)"
   ]
  },
  {
   "cell_type": "code",
   "execution_count": 6,
   "metadata": {},
   "outputs": [
    {
     "name": "stdout",
     "output_type": "stream",
     "text": [
      "<class 'pandas.core.frame.DataFrame'>\n",
      "RangeIndex: 1231 entries, 0 to 1230\n",
      "Data columns (total 6 columns):\n",
      " #   Column              Non-Null Count  Dtype  \n",
      "---  ------              --------------  -----  \n",
      " 0   Well_Number         1231 non-null   object \n",
      " 1   Completion_Type     1231 non-null   object \n",
      " 2   Top_Perforation     1231 non-null   float64\n",
      " 3   Bottom_Perforation  1231 non-null   float64\n",
      " 4   Depth               1231 non-null   float64\n",
      " 5   Casing_Diam         1231 non-null   float64\n",
      "dtypes: float64(4), object(2)\n",
      "memory usage: 57.8+ KB\n"
     ]
    }
   ],
   "source": [
    "W=well[['Top_Perforation','Bottom_Perforation','Depth','Casing_Diam']]\n",
    "W_fill=pd.DataFrame(imputer.fit_transform(W))\n",
    "well_prop_full=well[['Well_Number','Completion_Type']].join(W_fill.rename({0: 'Top_Perforation',1:'Bottom_Perforation',2:'Depth',3:'Casing_Diam'}, axis=1))\n",
    "well_prop_full.info()"
   ]
  },
  {
   "cell_type": "markdown",
   "metadata": {},
   "source": [
    "Сохраняем файл с заполнеными значениями."
   ]
  },
  {
   "cell_type": "code",
   "execution_count": 8,
   "metadata": {},
   "outputs": [],
   "source": [
    "well_prop_full.to_csv('well_full.csv',index=False)"
   ]
  },
  {
   "cell_type": "code",
   "execution_count": null,
   "metadata": {},
   "outputs": [],
   "source": []
  }
 ],
 "metadata": {
  "kernelspec": {
   "display_name": "Python 3",
   "language": "python",
   "name": "python3"
  },
  "language_info": {
   "codemirror_mode": {
    "name": "ipython",
    "version": 3
   },
   "file_extension": ".py",
   "mimetype": "text/x-python",
   "name": "python",
   "nbconvert_exporter": "python",
   "pygments_lexer": "ipython3",
   "version": "3.7.6"
  }
 },
 "nbformat": 4,
 "nbformat_minor": 4
}
